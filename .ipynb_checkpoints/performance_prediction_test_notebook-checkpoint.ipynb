{
 "cells": [
  {
   "cell_type": "code",
   "execution_count": 1,
   "metadata": {
    "scrolled": true
   },
   "outputs": [
    {
     "name": "stderr",
     "output_type": "stream",
     "text": [
      "P:\\Anaconda\\lib\\site-packages\\sklearn\\ensemble\\weight_boosting.py:29: DeprecationWarning: numpy.core.umath_tests is an internal NumPy module and should not be imported. It will be removed in a future NumPy release.\n",
      "  from numpy.core.umath_tests import inner1d\n"
     ]
    }
   ],
   "source": [
    "#imports\n",
    "\n",
    "import pathlib\n",
    "import pandas as pd\n",
    "from sklearn.metrics import mean_squared_error, r2_score,mean_absolute_error\n",
    "from sklearn.model_selection import train_test_split\n",
    "from sklearn.tree import DecisionTreeRegressor\n",
    "from sklearn.ensemble import RandomForestRegressor\n",
    "\n",
    "import matplotlib.pyplot as plt\n",
    "import numpy as np"
   ]
  },
  {
   "cell_type": "markdown",
   "metadata": {},
   "source": [
    "## Loading the data and separating it into train and test sets"
   ]
  },
  {
   "cell_type": "code",
   "execution_count": 2,
   "metadata": {},
   "outputs": [],
   "source": [
    "#load data and separate datasets\n",
    "working_dir = pathlib.Path().absolute()\n",
    "df = pd.read_excel ( str(working_dir) + r'\\perfdata.xlsx')\n",
    "\n",
    "df= df.drop(['Test No', 'Configuration no', 'Ramp up time'], axis=1)\n",
    "\n",
    "X= df.iloc[:, 0:74]\n",
    "y= df['Average error rate']\n",
    "\n",
    "X_train, X_test, y_train, y_test = train_test_split(X,y, test_size=0.2, train_size = 0.8, random_state=42)\n",
    "\n"
   ]
  },
  {
   "cell_type": "markdown",
   "metadata": {},
   "source": [
    "Exploring the dataset"
   ]
  },
  {
   "cell_type": "code",
   "execution_count": 3,
   "metadata": {},
   "outputs": [
    {
     "name": "stdout",
     "output_type": "stream",
     "text": [
      "75\n"
     ]
    },
    {
     "data": {
      "text/plain": [
       "array(['db_replicas_1', 'db_replicas_2', 'db_mem_req_0.1',\n",
       "       'db_mem__req_0.2', 'db_mem_limit_1', 'db_mem_limit_2',\n",
       "       'db_cpu_request_0.05', 'db_cpu_request_0.1', 'db_cpu_limit_0.1',\n",
       "       'db_cpu_limit_1', 'registry_replicas_1', 'registry_replicas_2',\n",
       "       'registry_mem_request_0.25g', 'registry_mem_request_0.5g',\n",
       "       'registry_mem_limi_0.25gi', 'registry_mem_limi_0.5gi',\n",
       "       'registry_cpu_request_0.01', 'registry_cpu_request_0.02',\n",
       "       'registry_cpu_limit_0.15', 'registry_cpu_limit_1',\n",
       "       'persistence_replicas_1', 'persistence_replicas_2',\n",
       "       'persistence_mem_request_0.5', 'persistence_mem_request_0.6',\n",
       "       'persistence_mem_limit_0.5', 'persistence_mem_limit_1',\n",
       "       'persistence_cpu_request_0.5', 'persistence_cpu_request_0.6',\n",
       "       'persistence_cpu_limit_0.6', 'persistence_cpu_limit_1',\n",
       "       'auth_replicas_1', 'auth_replicas_2', 'auth_mem_request_0.5',\n",
       "       'auth_mem_request_1', 'auth_mem_limit_1', 'auth_mem_limit_2',\n",
       "       'auth_cpu_request_0.2', 'auth_cpu_request_0.4',\n",
       "       'auth_cpu_limit_0.5', 'auth_cpu_limit_1', 'image_replicas_1',\n",
       "       'image_replicas_2', 'image_mem_request_0.5', 'image_mem_request_1',\n",
       "       'image_mem_limit_1', 'image_mem_limit_2', 'image_mem_request_0.3',\n",
       "       'image_mem_request_0.4', 'image_cpu_limit_1', 'image_cpu_limit_2',\n",
       "       'recc_replicas_0', 'recc_replicas_1', 'recc_replicas_2',\n",
       "       'recc_mem_request_0.5', 'recc_mem_request_0.6',\n",
       "       'recc_mem_limit_0.5', 'recc_mem_limit_1', 'recc_cpu_request_0.1',\n",
       "       'recc_cpu_request_0.2', 'recc_cpu_limit_0.25', 'recc_cpu_limit_1',\n",
       "       'webUI_replicas_1', 'webUI_replicas_2', 'webui_mem_request_0.5',\n",
       "       'webui_mem_request_1', 'webui_mem_limit_1', 'webui_mem_limit_2',\n",
       "       'webui_mem_request_0.5.1', 'webui_mem_request_0.6',\n",
       "       'webui_cpu_request_0.5', 'webui_cpu_request_1', 'workload',\n",
       "       'Total time', 'No. of Nodes', 'Average error rate'], dtype=object)"
      ]
     },
     "execution_count": 3,
     "metadata": {},
     "output_type": "execute_result"
    }
   ],
   "source": [
    "print(len(df.columns.values))\n",
    "df.columns.values"
   ]
  },
  {
   "cell_type": "markdown",
   "metadata": {},
   "source": [
    "## Training the first two (vanilla) models \n",
    "\n",
    "### Model 1: [Decision Tree Regressor](https://scikit-learn.org/stable/modules/generated/sklearn.tree.DecisionTreeRegressor.html)\n",
    "\n",
    "### Model 2: [Random Forest Regressor](https://scikit-learn.org/stable/modules/generated/sklearn.ensemble.RandomForestRegressor.html)"
   ]
  },
  {
   "cell_type": "code",
   "execution_count": 4,
   "metadata": {
    "scrolled": true
   },
   "outputs": [
    {
     "data": {
      "text/plain": [
       "RandomForestRegressor(bootstrap=True, criterion='friedman_mse',\n",
       "           max_depth=None, max_features='auto', max_leaf_nodes=None,\n",
       "           min_impurity_decrease=0.0, min_impurity_split=None,\n",
       "           min_samples_leaf=1, min_samples_split=2,\n",
       "           min_weight_fraction_leaf=0.0, n_estimators=100, n_jobs=-1,\n",
       "           oob_score=False, random_state=None, verbose=0, warm_start=False)"
      ]
     },
     "execution_count": 4,
     "metadata": {},
     "output_type": "execute_result"
    }
   ],
   "source": [
    "#model 1 - Decision Tree Regressor\n",
    "\n",
    "model1_dtr = DecisionTreeRegressor(criterion='friedman_mse', splitter='best', max_depth=10, max_features='auto')\n",
    "model1_dtr.fit(X_train, y_train)\n",
    "\n",
    "#model 2 - RandomForestRegressor\n",
    "\n",
    "model2_rfr = RandomForestRegressor(criterion='friedman_mse', max_depth=None, max_features='auto', n_estimators = 100, n_jobs=-1)\n",
    "model2_rfr.fit(X_train, y_train)"
   ]
  },
  {
   "cell_type": "markdown",
   "metadata": {},
   "source": [
    "## Returning, evaluating and plotting results from the first two models"
   ]
  },
  {
   "cell_type": "code",
   "execution_count": 5,
   "metadata": {},
   "outputs": [],
   "source": [
    "#scores\n",
    "\n",
    "model1_dtr_score_train = model1_dtr.score(X_train, y_train)\n",
    "model1_dtr_score_test = model1_dtr.score(X_test, y_test)\n",
    "dtr_y_pred = model1_dtr.predict(X_test)\n",
    "\n",
    "model2_rfr_score_train = model2_rfr.score(X_train, y_train)\n",
    "model2_rfr_score_test = model2_rfr.score(X_test, y_test)\n",
    "rfr_y_pred = model2_rfr.predict(X_test)"
   ]
  },
  {
   "cell_type": "code",
   "execution_count": 6,
   "metadata": {},
   "outputs": [],
   "source": [
    "#text output function\n",
    "\n",
    "def text_out (model_train_score, model_test_score, y_test_values, model_y_pred):\n",
    "    text_out = {\n",
    "        \"train score\": round(model_train_score, 2),\n",
    "        \"test score\": round(model_test_score, 2),\n",
    "        \"R-squared\": round(r2_score(y_test_values, model_y_pred), 3),\n",
    "        \"MAE\": round(mean_absolute_error(y_test_values, model_y_pred), 3),\n",
    "        \"MSE\": round(mean_squared_error(y_test_values, model_y_pred),3 )\n",
    "    }\n",
    "    return print(text_out)"
   ]
  },
  {
   "cell_type": "code",
   "execution_count": 7,
   "metadata": {
    "scrolled": false
   },
   "outputs": [
    {
     "name": "stdout",
     "output_type": "stream",
     "text": [
      "{'train score': 1.0, 'test score': 0.59, 'R-squared': 0.585, 'MAE': 8.459, 'MSE': 147.99}\n",
      "{'train score': 0.96, 'test score': 0.66, 'R-squared': 0.657, 'MAE': 9.161, 'MSE': 122.483}\n"
     ]
    }
   ],
   "source": [
    "#results\n",
    "text_out(model1_dtr_score_train, model1_dtr_score_test, y_test, dtr_y_pred)\n",
    "text_out(model2_rfr_score_train,model2_rfr_score_test, y_test, rfr_y_pred)"
   ]
  },
  {
   "cell_type": "code",
   "execution_count": 8,
   "metadata": {},
   "outputs": [
    {
     "data": {
      "image/png": "[encoded data removed]",
      "text/plain": [
       "<Figure size 432x288 with 1 Axes>"
      ]
     },
     "metadata": {},
     "output_type": "display_data"
    }
   ],
   "source": [
    "#Plots\n",
    "\n",
    "plt.xkcd()\n",
    "\n",
    "plt.scatter(dtr_y_pred, y_test)\n",
    "plt.xlabel('Predicted performance values, Model: Decision Tree Regressor')\n",
    "plt.ylabel('Actual performance values')\n",
    "plt.show()"
   ]
  },
  {
   "cell_type": "code",
   "execution_count": 9,
   "metadata": {
    "scrolled": true
   },
   "outputs": [
    {
     "data": {
      "image/png": "[encoded data removed]",
      "text/plain": [
       "<Figure size 432x288 with 1 Axes>"
      ]
     },
     "metadata": {
      "needs_background": "light"
     },
     "output_type": "display_data"
    }
   ],
   "source": [
    "plt.scatter(rfr_y_pred, y_test)\n",
    "plt.xlabel('Predicted performance values, Model: Random Forest Regressor')\n",
    "plt.ylabel('Actual performance values')\n",
    "plt.show()"
   ]
  },
  {
   "cell_type": "markdown",
   "metadata": {},
   "source": [
    "### A few function defintions"
   ]
  },
  {
   "cell_type": "code",
   "execution_count": 10,
   "metadata": {},
   "outputs": [],
   "source": [
    "def param_tuningDTR(X, y):\n",
    "    # returns the best params\n",
    "    crit = []\n",
    "    spli = []\n",
    "    dep = []\n",
    "    r2scr = []\n",
    "\n",
    "    X_train, X_test, y_train, y_test = train_test_split(X, y, test_size=0.7, random_state=42)\n",
    "\n",
    "    dept_df = pd.DataFrame()\n",
    "    dept_df['y'] = y_test\n",
    "\n",
    "    criterion = ['mse', 'friedman_mse', 'mae']\n",
    "    for cr in criterion:\n",
    "        split = ['random', 'best']\n",
    "        for sp in split:\n",
    "            depth = [2, 4, 6, 8, 10]\n",
    "            for m in depth:\n",
    "                mlregr = DecisionTreeRegressor(criterion=cr, splitter=sp, max_depth=m, max_features='auto')\n",
    "                mlregr.fit(X_train, y_train)\n",
    "\n",
    "                y_predicted = mlregr.predict(X_test)\n",
    "                crit.append(cr)\n",
    "                spli.append(sp)\n",
    "                dep.append(m)\n",
    "                r2_score_x = r2_score(y_test, y_predicted)\n",
    "                r2scr.append(r2_score_x)\n",
    "                dept_df[\"depth(\" + str(m) + \")\"] = y_predicted.tolist()\n",
    "\n",
    "    history = pd.DataFrame(list(zip(crit, spli, dep, r2scr)),\n",
    "                           columns=['criterion', 'splitter', 'max_depth', 'r2_score'])\n",
    "    best_params = history.iloc[history['r2_score'].idxmax()]\n",
    "\n",
    "    return best_params, dept_df, depth\n",
    "\n",
    "def param_tuningRFR(X, y):\n",
    "    # returns the best params\n",
    "    crit = []\n",
    "    n_estimate = []\n",
    "    dep = []\n",
    "    r2scr = []\n",
    "\n",
    "    X_train, X_test, y_train, y_test = train_test_split(X, y, test_size=0.7, random_state=42)\n",
    "\n",
    "    dept_df = pd.DataFrame()\n",
    "    dept_df['y'] = y_test\n",
    "\n",
    "    estimators = [10, 20, 30, 40, 50, 60, 70, 80, 90, 100]\n",
    "    for n_est in estimators:\n",
    "        criterion = ['mse', 'friedman_mse', 'mae']\n",
    "        for cr in criterion:\n",
    "            depth = [2, 4, 6, 8, 10]\n",
    "            for m in depth:\n",
    "                mlregr = RandomForestRegressor(n_estimators = n_est, criterion=cr, max_depth=m, max_features='auto')\n",
    "                mlregr.fit(X_train, y_train)\n",
    "\n",
    "                y_predicted = mlregr.predict(X_test)\n",
    "                crit.append(cr)\n",
    "                n_estimate.append(n_est)\n",
    "                dep.append(m)\n",
    "                r2_score_x = r2_score(y_test, y_predicted)\n",
    "                r2scr.append(r2_score_x)\n",
    "                dept_df[\"depth(\" + str(m) + \")\"] = y_predicted.tolist()\n",
    "\n",
    "    history = pd.DataFrame(list(zip(n_estimate, crit, dep, r2scr)),\n",
    "                           columns=['n_estimators', 'criterion', 'max_depth', 'r2_score'])\n",
    "    best_params = history.iloc[history['r2_score'].idxmax()]\n",
    "\n",
    "    return best_params, dept_df, depth"
   ]
  },
  {
   "cell_type": "markdown",
   "metadata": {},
   "source": [
    "## Creating and testing model 3: DTR with optimised hyperparameters"
   ]
  },
  {
   "cell_type": "code",
   "execution_count": 11,
   "metadata": {
    "scrolled": true
   },
   "outputs": [
    {
     "name": "stdout",
     "output_type": "stream",
     "text": [
      "{'train score': 0.96, 'test score': 0.67, 'R-squared': 0.674, 'MAE': 8.728, 'MSE': 116.191}\n"
     ]
    }
   ],
   "source": [
    "#optimised DTR model hyperparamters (addresses overfitting)\n",
    "best_params, dept_df,depth = param_tuningDTR(X, y)\n",
    "model3_dtr_optm= DecisionTreeRegressor(criterion=str(best_params[0]), splitter=best_params[1], max_depth=int(best_params[2]),max_features='auto')\n",
    "\n",
    "model3_dtr_optm.fit(X_train, y_train)\n",
    "model3_dtr_optm_score_train=model3_dtr_optm.score(X_train,y_train)\n",
    "model3_dtr_optm_score_test = model3_dtr_optm.score(X_test, y_test)\n",
    "y_pred_model3_dtr_optm = model3_dtr_optm.predict(X_test)\n",
    "\n",
    "text_out(model3_dtr_optm_score_train, model3_dtr_optm_score_test, y_test, y_pred_model3_dtr_optm)"
   ]
  },
  {
   "cell_type": "code",
   "execution_count": 12,
   "metadata": {},
   "outputs": [
    {
     "data": {
      "image/png": "[encoded data removed]",
      "text/plain": [
       "<Figure size 432x288 with 1 Axes>"
      ]
     },
     "metadata": {
      "needs_background": "light"
     },
     "output_type": "display_data"
    }
   ],
   "source": [
    "\n",
    "plt.scatter(y_pred_model3_dtr_optm, y_test)\n",
    "plt.xlabel('Predicted performance values, Model: Decision Tree Regressor (optimised)')\n",
    "plt.ylabel('Actual performance values')\n",
    "plt.show()"
   ]
  },
  {
   "cell_type": "markdown",
   "metadata": {},
   "source": [
    "## Creating and testing model 4: RFR with optimised hyperparameters"
   ]
  },
  {
   "cell_type": "code",
   "execution_count": 13,
   "metadata": {},
   "outputs": [
    {
     "name": "stdout",
     "output_type": "stream",
     "text": [
      "{'train score': 0.92, 'test score': 0.53, 'R-squared': 0.526, 'MAE': 11.557, 'MSE': 169.094}\n"
     ]
    }
   ],
   "source": [
    "#optimised RFR model hyperparamters\n",
    "best_params, dept_df,depth = param_tuningRFR(X, y)\n",
    "model4_rfr_optm= RandomForestRegressor(n_estimators = (best_params[0]), criterion=str(best_params[1]), max_depth=int(best_params[2]),max_features='auto')\n",
    "\n",
    "model4_rfr_optm.fit(X_train, y_train)\n",
    "model4_rfr_optm_score_train=model4_rfr_optm.score(X_train,y_train)\n",
    "model4_rfr_optm_score_test = model4_rfr_optm.score(X_test, y_test)\n",
    "y_pred_model4_rfr_optm = model4_rfr_optm.predict(X_test)\n",
    "\n",
    "text_out(model4_rfr_optm_score_train, model4_rfr_optm_score_test, y_test, y_pred_model4_rfr_optm)"
   ]
  },
  {
   "cell_type": "code",
   "execution_count": 14,
   "metadata": {},
   "outputs": [
    {
     "data": {
      "image/png": "[encoded data removed]",
      "text/plain": [
       "<Figure size 432x288 with 1 Axes>"
      ]
     },
     "metadata": {
      "needs_background": "light"
     },
     "output_type": "display_data"
    }
   ],
   "source": [
    "plt.scatter(y_pred_model4_rfr_optm, y_test)\n",
    "plt.xlabel('Predicted performance values, Model: Random Forest Regressor (optimised)')\n",
    "plt.ylabel('Actual performance values')\n",
    "plt.show()"
   ]
  }
 ],
 "metadata": {
  "kernelspec": {
   "display_name": "Python 3",
   "language": "python",
   "name": "python3"
  },
  "language_info": {
   "codemirror_mode": {
    "name": "ipython",
    "version": 3
   },
   "file_extension": ".py",
   "mimetype": "text/x-python",
   "name": "python",
   "nbconvert_exporter": "python",
   "pygments_lexer": "ipython3",
   "version": "3.6.6"
  }
 },
 "nbformat": 4,
 "nbformat_minor": 2
}
